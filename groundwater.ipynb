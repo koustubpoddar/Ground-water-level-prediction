{
 "cells": [
  {
   "cell_type": "markdown",
   "metadata": {},
   "source": [
    "# ML Model for Groundwater detection based on resistivity values"
   ]
  },
  {
   "cell_type": "markdown",
   "metadata": {},
   "source": [
    "# Step 0. Import Dependencies"
   ]
  },
  {
   "cell_type": "code",
   "execution_count": 1,
   "metadata": {},
   "outputs": [],
   "source": [
    "import pandas as pd\n",
    "from sklearn.model_selection import train_test_split, GridSearchCV\n",
    "from sklearn.preprocessing import StandardScaler\n",
    "from sklearn.metrics import accuracy_score, classification_report\n",
    "from flask import Flask, request, jsonify\n",
    "from sklearn.pipeline import Pipeline"
   ]
  },
  {
   "cell_type": "markdown",
   "metadata": {},
   "source": [
    "# Step 1. Load and pre-process dataset"
   ]
  },
  {
   "cell_type": "code",
   "execution_count": 2,
   "metadata": {},
   "outputs": [
    {
     "name": "stdout",
     "output_type": "stream",
     "text": [
      "    elec_pos  depth      rho      cond\n",
      "0       0.75  0.375   25.550  0.039100\n",
      "1       2.25  0.375   21.047  0.047500\n",
      "2       3.75  0.375  177.340  0.005639\n",
      "3       5.25  0.375   88.893  0.011200\n",
      "4       6.75  0.375   65.648  0.015200\n",
      "..       ...    ...      ...       ...\n",
      "95     23.25  1.125   85.276  0.011700\n",
      "96     24.75  1.125   65.016  0.015400\n",
      "97     26.25  1.125   61.697  0.016200\n",
      "98     27.75  1.125   97.625  0.010200\n",
      "99     29.25  1.125   54.441  0.018400\n",
      "\n",
      "[100 rows x 4 columns]\n"
     ]
    }
   ],
   "source": [
    "inputfile = 'EL EDEN_TOMO-01.csv'\n",
    "raw_data = pd.read_csv(inputfile, delimiter= ',')  # Adjust delimiter if needed\n",
    "print(raw_data.head(100))"
   ]
  },
  {
   "cell_type": "markdown",
   "metadata": {},
   "source": [
    "Define rho thereshold and add a new column to define groundwater presence"
   ]
  },
  {
   "cell_type": "code",
   "execution_count": 3,
   "metadata": {},
   "outputs": [],
   "source": [
    "rho_threshold = 50\n",
    "raw_data['groundwater_presence'] = (raw_data['rho'] < rho_threshold).astype(int)"
   ]
  },
  {
   "cell_type": "markdown",
   "metadata": {},
   "source": [
    "Correlation Analysis"
   ]
  },
  {
   "cell_type": "code",
   "execution_count": 4,
   "metadata": {},
   "outputs": [
    {
     "name": "stdout",
     "output_type": "stream",
     "text": [
      "Correlation Matrix:\n",
      "                           elec_pos         depth       rho      cond  \\\n",
      "elec_pos              1.000000e+00 -1.005993e-16  0.016794  0.074310   \n",
      "depth                -1.005993e-16  1.000000e+00 -0.122715  0.225429   \n",
      "rho                   1.679380e-02 -1.227151e-01  1.000000 -0.104366   \n",
      "cond                  7.430999e-02  2.254286e-01 -0.104366  1.000000   \n",
      "groundwater_presence  9.300724e-02  4.301459e-01 -0.105311  0.537776   \n",
      "\n",
      "                      groundwater_presence  \n",
      "elec_pos                          0.093007  \n",
      "depth                             0.430146  \n",
      "rho                              -0.105311  \n",
      "cond                              0.537776  \n",
      "groundwater_presence              1.000000  \n",
      "Highly Correlated Features: []\n"
     ]
    }
   ],
   "source": [
    "correlation_matrix = raw_data.corr()\n",
    "print(\"Correlation Matrix:\\n\", correlation_matrix)\n",
    "\n",
    "# Check for correlation > 0.7\n",
    "highly_correlated = []\n",
    "for i in range(len(correlation_matrix.columns)):\n",
    "    for j in range(i):\n",
    "        if abs(correlation_matrix.iloc[i, j]) > 0.7:\n",
    "            col_i = correlation_matrix.columns[i]\n",
    "            col_j = correlation_matrix.columns[j]\n",
    "            highly_correlated.append((col_i, col_j))\n",
    "print(\"Highly Correlated Features:\", highly_correlated)\n",
    "\n",
    "# Remove explanatory variables of the basis\n",
    "features_to_remove = ['elec_pos']  # Add more features if needed\n",
    "raw_data_filtered = raw_data.drop(columns=features_to_remove)"
   ]
  },
  {
   "cell_type": "markdown",
   "metadata": {},
   "source": [
    "Save the new csv including groundwater presence column"
   ]
  },
  {
   "cell_type": "code",
   "execution_count": 5,
   "metadata": {},
   "outputs": [],
   "source": [
    "output_file_path = \"Groundwater_presence.csv\"\n",
    "raw_data_filtered.to_csv(output_file_path, index=False)"
   ]
  },
  {
   "cell_type": "markdown",
   "metadata": {},
   "source": [
    "Define our training data"
   ]
  },
  {
   "cell_type": "code",
   "execution_count": 6,
   "metadata": {},
   "outputs": [
    {
     "name": "stdout",
     "output_type": "stream",
     "text": [
      "    depth        rho      cond  groundwater_presence\n",
      "0   0.375     25.550  0.039100                     1\n",
      "1   0.375     21.047  0.047500                     1\n",
      "2   0.375    177.340  0.005639                     0\n",
      "3   0.375     88.893  0.011200                     0\n",
      "4   0.375     65.648  0.015200                     0\n",
      "5   0.375     55.698  0.018000                     0\n",
      "6   0.375     54.487  0.018400                     0\n",
      "7   0.375     58.367  0.017100                     0\n",
      "8   0.375     38.067  0.026300                     1\n",
      "9   0.375     44.521  0.022500                     1\n",
      "10  0.375     83.753  0.011900                     0\n",
      "11  0.375    100.800  0.009921                     0\n",
      "12  0.375     54.089  0.018500                     0\n",
      "13  0.375     42.987  0.023300                     1\n",
      "14  0.375     30.320  0.033000                     1\n",
      "15  0.375     39.542  0.025300                     1\n",
      "16  0.375     40.595  0.024600                     1\n",
      "17  0.375     45.353  0.022000                     1\n",
      "18  0.375     32.797  0.030500                     1\n",
      "19  0.375     33.421  0.029900                     1\n",
      "20  0.375     34.523  0.029000                     1\n",
      "21  0.375     45.067  0.022200                     1\n",
      "22  0.375     61.962  0.016100                     0\n",
      "23  0.375     50.250  0.019900                     0\n",
      "24  0.375     62.803  0.015900                     0\n",
      "25  0.375     66.746  0.015000                     0\n",
      "26  0.375     68.816  0.014500                     0\n",
      "27  0.375     62.959  0.015900                     0\n",
      "28  0.375     60.031  0.016700                     0\n",
      "29  0.375     63.391  0.015800                     0\n",
      "30  0.375     62.203  0.016100                     0\n",
      "31  0.375     55.524  0.018000                     0\n",
      "32  0.375     69.064  0.014500                     0\n",
      "33  0.375     75.913  0.013200                     0\n",
      "34  0.375     90.137  0.011100                     0\n",
      "35  0.375     94.873  0.010500                     0\n",
      "36  0.375     79.149  0.012600                     0\n",
      "37  0.375     74.383  0.013400                     0\n",
      "38  0.375     87.838  0.011400                     0\n",
      "39  0.375     13.944  0.071700                     1\n",
      "40  0.375     30.050  0.033300                     1\n",
      "41  0.375     48.511  0.020600                     1\n",
      "42  0.375     51.437  0.019400                     0\n",
      "43  0.375      6.801  0.147000                     1\n",
      "44  0.375     20.967  0.047700                     1\n",
      "45  0.375  13749.000  0.000073                     0\n",
      "46  0.375     34.221  0.029200                     1\n",
      "47  0.375     31.619  0.031600                     1\n",
      "48  0.375     54.311  0.018400                     0\n",
      "49  0.375     18.880  0.053000                     1\n"
     ]
    }
   ],
   "source": [
    "fixed_input = \"Groundwater_presence.csv\"\n",
    "data = pd.read_csv(fixed_input, delimiter = ',')\n",
    "print(data.head(50))"
   ]
  },
  {
   "cell_type": "markdown",
   "metadata": {},
   "source": [
    "# Step 2: QA/QC processing to remove outlier values\n",
    "\n",
    "Assuming you have 2D resistivity values (x, depth, rho) and an indicator for groundwater presence\n",
    "Example: x_coord, z_coord, rho, groundwater_presence"
   ]
  },
  {
   "cell_type": "markdown",
   "metadata": {},
   "source": [
    "Calculate the z-scores of the resistivity values"
   ]
  },
  {
   "cell_type": "code",
   "execution_count": 7,
   "metadata": {},
   "outputs": [],
   "source": [
    "z_scores = (data['rho'] - data['rho'].mean()) / data['rho'].std()"
   ]
  },
  {
   "cell_type": "markdown",
   "metadata": {},
   "source": [
    "Define a threshold for z-scores beyond which data points are considered outliers\n"
   ]
  },
  {
   "cell_type": "code",
   "execution_count": 8,
   "metadata": {},
   "outputs": [],
   "source": [
    "z_score_threshold = 3  # Adjust this threshold as needed"
   ]
  },
  {
   "cell_type": "markdown",
   "metadata": {},
   "source": [
    "Create a boolean mask to identify outlier data points"
   ]
  },
  {
   "cell_type": "code",
   "execution_count": 9,
   "metadata": {},
   "outputs": [],
   "source": [
    "outliers_mask = abs(z_scores) > z_score_threshold"
   ]
  },
  {
   "cell_type": "markdown",
   "metadata": {},
   "source": [
    "Remove outlier data points from the dataset"
   ]
  },
  {
   "cell_type": "code",
   "execution_count": 10,
   "metadata": {},
   "outputs": [],
   "source": [
    "data_no_outliers = data[~outliers_mask]"
   ]
  },
  {
   "cell_type": "markdown",
   "metadata": {},
   "source": [
    "# Step 3: Data splitting"
   ]
  },
  {
   "cell_type": "code",
   "execution_count": 11,
   "metadata": {},
   "outputs": [],
   "source": [
    "X = data_no_outliers.drop([\"groundwater_presence\"], axis=1)  # Features (elec_pos, depth, rho, cond)\n",
    "y_presence = data_no_outliers[\"groundwater_presence\"]  # Target variable for presence\n",
    "X_train, X_test, y_presence_train, y_presence_test = train_test_split(X, y_presence, test_size=0.2, random_state=42)"
   ]
  },
  {
   "cell_type": "markdown",
   "metadata": {},
   "source": [
    "# Step 4: Model selection"
   ]
  },
  {
   "cell_type": "code",
   "execution_count": 12,
   "metadata": {},
   "outputs": [],
   "source": [
    "from xgboost import XGBClassifier\n",
    "\n",
    "model = XGBClassifier(random_state=42)"
   ]
  },
  {
   "cell_type": "markdown",
   "metadata": {},
   "source": [
    "# Step 5: Hyperparameter Tuning"
   ]
  },
  {
   "cell_type": "code",
   "execution_count": 13,
   "metadata": {},
   "outputs": [],
   "source": [
    "import xgboost as xgb\n",
    "\n",
    "param_grid = {\n",
    "    'clf__n_estimators': [100, 200, 300],\n",
    "    'clf__max_depth': [3, 6, 9],\n",
    "    'clf__learning_rate': [0.01, 0.1, 0.2],\n",
    "    'clf__subsample': [0.8, 1.0],\n",
    "    'clf__colsample_bytree': [0.8, 1.0],\n",
    "    'clf__reg_alpha': [0, 0.1, 0.5],\n",
    "    'clf__reg_lambda': [0, 0.1, 0.5]\n",
    "}\n",
    "\n",
    "pipeline = Pipeline([\n",
    "    ('scaler', StandardScaler()),  # Feature scaling\n",
    "    ('clf', xgb.XGBClassifier(random_state=42, objective='binary:logistic'))\n",
    "])\n",
    "\n",
    "grid_search = GridSearchCV(pipeline, param_grid, cv=5, n_jobs=-1)\n",
    "grid_search.fit(X_train, y_presence_train)\n",
    "\n",
    "best_model_presence = grid_search.best_estimator_"
   ]
  },
  {
   "cell_type": "markdown",
   "metadata": {},
   "source": [
    "# Step 6: Model Evaluation"
   ]
  },
  {
   "cell_type": "code",
   "execution_count": 14,
   "metadata": {},
   "outputs": [
    {
     "name": "stdout",
     "output_type": "stream",
     "text": [
      "Accuracy for Groundwater Presence: 1.0\n",
      "Classification Report for Groundwater Presence:\n",
      "               precision    recall  f1-score   support\n",
      "\n",
      "           0       1.00      1.00      1.00       178\n",
      "           1       1.00      1.00      1.00        45\n",
      "\n",
      "    accuracy                           1.00       223\n",
      "   macro avg       1.00      1.00      1.00       223\n",
      "weighted avg       1.00      1.00      1.00       223\n",
      "\n"
     ]
    }
   ],
   "source": [
    "y_presence_pred = best_model_presence.predict(X_test)\n",
    "accuracy_presence = accuracy_score(y_presence_test, y_presence_pred)\n",
    "classification_rep_presence = classification_report(y_presence_test, y_presence_pred)\n",
    "print(\"Accuracy for Groundwater Presence:\", accuracy_presence)\n",
    "print(\"Classification Report for Groundwater Presence:\\n\", classification_rep_presence)"
   ]
  },
  {
   "cell_type": "markdown",
   "metadata": {},
   "source": [
    "# Step 7. Model Interpretation"
   ]
  },
  {
   "cell_type": "code",
   "execution_count": 15,
   "metadata": {},
   "outputs": [
    {
     "name": "stdout",
     "output_type": "stream",
     "text": [
      "Feature Importances for Groundwater Presence:\n",
      "cond: 0.6909244656562805\n",
      "rho: 0.3090754449367523\n",
      "depth: 8.273068630160196e-08\n"
     ]
    }
   ],
   "source": [
    "importances_presence = best_model_presence.named_steps['clf'].feature_importances_\n",
    "feature_names_presence = X_train.columns\n",
    "feature_importances_presence = dict(zip(feature_names_presence, importances_presence))\n",
    "sorted_feature_importances_presence = sorted(feature_importances_presence.items(), key=lambda x: x[1], reverse=True)\n",
    "\n",
    "print(\"Feature Importances for Groundwater Presence:\")\n",
    "for feature, importance in sorted_feature_importances_presence:\n",
    "    print(f\"{feature}: {importance}\")"
   ]
  },
  {
   "cell_type": "markdown",
   "metadata": {},
   "source": [
    "# Step 8. Prediction and visualization using test data"
   ]
  },
  {
   "cell_type": "markdown",
   "metadata": {},
   "source": [
    "Import dependencies"
   ]
  },
  {
   "cell_type": "code",
   "execution_count": 16,
   "metadata": {},
   "outputs": [],
   "source": [
    "import numpy as np\n",
    "import matplotlib.pyplot as plt"
   ]
  },
  {
   "cell_type": "markdown",
   "metadata": {},
   "source": [
    "Create a meshgrid for electrode position and depth"
   ]
  },
  {
   "cell_type": "code",
   "execution_count": 17,
   "metadata": {},
   "outputs": [],
   "source": [
    "elec_pos_values = np.unique(raw_data['elec_pos'])\n",
    "depth_values = np.unique(raw_data['depth'])\n",
    "X, Y = np.meshgrid(elec_pos_values, depth_values)"
   ]
  },
  {
   "cell_type": "markdown",
   "metadata": {},
   "source": [
    "Reshape the data for visualization: create a new array to hold the predicted values. Initialize it with zeros & terate through your y_presence_pred array and assign the values to the corresponding positions in the Z array using the meshgrid indices"
   ]
  },
  {
   "cell_type": "code",
   "execution_count": 18,
   "metadata": {},
   "outputs": [],
   "source": [
    "Z = np.zeros(X.shape)  # Initialize an empty grid\n",
    "index = 0\n",
    "for i, elec_pos in enumerate(elec_pos_values):\n",
    "    for j, depth in enumerate(depth_values):\n",
    "        if index < len(y_presence_pred):  # Make sure to access valid indices\n",
    "            Z[j, i] = y_presence_pred[index]\n",
    "        index += 1\n",
    "        if index >= len(y_presence_pred):\n",
    "            break  # Exit the loop if we've reached the end of y_presence_pred"
   ]
  },
  {
   "cell_type": "markdown",
   "metadata": {},
   "source": [
    "Create the contour plot"
   ]
  },
  {
   "cell_type": "code",
   "execution_count": 19,
   "metadata": {},
   "outputs": [
    {
     "data": {
      "image/png": "[encoded data removed]",
      "text/plain": [
       "<Figure size 1000x800 with 2 Axes>"
      ]
     },
     "metadata": {},
     "output_type": "display_data"
    }
   ],
   "source": [
    "plt.figure(figsize=(10, 8))  # Adjust the figsize as needed\n",
    "\n",
    "contour = plt.contourf(X, Y, Z, levels=20, cmap='viridis')\n",
    "plt.colorbar(contour, label='Groundwater Presence')\n",
    "plt.ylabel('Depth')  # Set the y-axis label as usual\n",
    "plt.gca().invert_yaxis()  # Flip y-axis to match typical subsurface profiles\n",
    "\n",
    "# Set the title with adjusted position\n",
    "plt.title('2D Subsurface Profile - Groundwater Presence for test data only', pad=20)\n",
    "\n",
    "# Move the x-axis label to the top\n",
    "plt.xlabel('Electrode Position')\n",
    "plt.gca().xaxis.tick_top()\n",
    "plt.gca().xaxis.set_label_position('top')\n",
    "\n",
    "# Adjust the y-axis tick parameters to reduce padding and font size\n",
    "plt.yticks(fontsize=8)  # Adjust the font size as needed\n",
    "\n",
    "# Adjust the layout with extra space between title and x-axis label\n",
    "plt.subplots_adjust(top=0.85)  # Adjust the value as needed\n",
    "\n",
    "plt.savefig('2d_subsurface_test_data.png')  # Save with tight layout\n",
    "plt.show()"
   ]
  },
  {
   "cell_type": "markdown",
   "metadata": {},
   "source": [
    "# Step 9. Prediction and visualization using all data"
   ]
  },
  {
   "cell_type": "code",
   "execution_count": 20,
   "metadata": {},
   "outputs": [],
   "source": [
    "elec_pos_values = np.unique(raw_data['elec_pos'])\n",
    "depth_values = np.unique(raw_data['depth'])\n",
    "X, Y = np.meshgrid(elec_pos_values, depth_values)\n",
    "\n",
    "y_presence_pred_all = best_model_presence.predict(data.drop([\"groundwater_presence\"], axis=1)) # Predict groundwater presence using the trained model\n",
    "\n",
    "# Reshape the data for visualization\n",
    "Z = np.zeros(X.shape)  \n",
    "index = 0\n",
    "for i, elec_pos in enumerate(elec_pos_values):\n",
    "    for j, depth in enumerate(depth_values):\n",
    "        if index < len(y_presence_pred_all):\n",
    "            Z[j, i] = y_presence_pred_all[index]\n",
    "        index += 1\n",
    "        if index >= len(y_presence_pred_all):\n",
    "            break"
   ]
  },
  {
   "cell_type": "markdown",
   "metadata": {},
   "source": [
    "Create the contour plot"
   ]
  },
  {
   "cell_type": "code",
   "execution_count": 21,
   "metadata": {},
   "outputs": [
    {
     "data": {
      "image/png": "[encoded data removed]",
      "text/plain": [
       "<Figure size 1000x800 with 2 Axes>"
      ]
     },
     "metadata": {},
     "output_type": "display_data"
    }
   ],
   "source": [
    "plt.figure(figsize=(10, 8))  # Adjust the figsize as needed\n",
    "contour = plt.contourf(X, Y, Z, levels=20, cmap='viridis')\n",
    "plt.colorbar(contour, label='Groundwater Presence')\n",
    "plt.ylabel('Depth')  # Set the y-axis label as usual\n",
    "plt.gca().invert_yaxis()  # Flip y-axis to match typical subsurface profiles\n",
    "\n",
    "# Set the title with adjusted position\n",
    "plt.title('2D Subsurface Profile - Groundwater Presence', pad=20)\n",
    "\n",
    "# Move the x-axis label to the top\n",
    "plt.xlabel('Electrode Position')\n",
    "plt.gca().xaxis.tick_top()\n",
    "plt.gca().xaxis.set_label_position('top')\n",
    "\n",
    "# Adjust the y-axis tick parameters to reduce padding and font size\n",
    "plt.yticks(fontsize=8)  # Adjust the font size as needed\n",
    "\n",
    "# Adjust the layout with extra space between title and x-axis label\n",
    "plt.subplots_adjust(top=0.85)  # Adjust the value as needed\n",
    "\n",
    "plt.savefig('2d_subsurface_profile_presence.png')  # Save with tight layout\n",
    "plt.show()"
   ]
  },
  {
   "cell_type": "markdown",
   "metadata": {},
   "source": [
    "# Step 10. Save trained model"
   ]
  },
  {
   "cell_type": "code",
   "execution_count": 22,
   "metadata": {},
   "outputs": [],
   "source": [
    "import pickle\n",
    "\n",
    "# Save the trained model\n",
    "model_file = 'Trained_model.pkl'  # Replace with your desired filename\n",
    "with open(model_file, 'wb') as model_pkl:\n",
    "    pickle.dump(best_model_presence, model_pkl)"
   ]
  },
  {
   "cell_type": "markdown",
   "metadata": {},
   "source": [
    "# Model deployment (optional)"
   ]
  },
  {
   "cell_type": "code",
   "execution_count": null,
   "metadata": {},
   "outputs": [
    {
     "name": "stdout",
     "output_type": "stream",
     "text": [
      " * Serving Flask app '__main__'\n",
      " * Debug mode: off\n"
     ]
    },
    {
     "name": "stderr",
     "output_type": "stream",
     "text": [
      "WARNING: This is a development server. Do not use it in a production deployment. Use a production WSGI server instead.\n",
      " * Running on http://127.0.0.1:5000\n",
      "Press CTRL+C to quit\n"
     ]
    }
   ],
   "source": [
    "app = Flask(__name__)\n",
    "\n",
    "@app.route('/predict', methods=['POST'])\n",
    "def predict():\n",
    "    data = request.json  # Assuming you send JSON data with x, y, and rho values\n",
    "    prediction_presence = best_model_presence.predict([data])[0]\n",
    "    response = {'groundwater_presence_prediction': 'Yes' if prediction_presence == 1 else 'No'}\n",
    "    return jsonify(response)\n",
    "\n",
    "if __name__ == '__main__':\n",
    "    app.run()"
   ]
  }
 ],
 "metadata": {
  "kernelspec": {
   "display_name": "base",
   "language": "python",
   "name": "python3"
  },
  "language_info": {
   "codemirror_mode": {
    "name": "ipython",
    "version": 3
   },
   "file_extension": ".py",
   "mimetype": "text/x-python",
   "name": "python",
   "nbconvert_exporter": "python",
   "pygments_lexer": "ipython3",
   "version": "3.12.3"
  },
  "orig_nbformat": 4
 },
 "nbformat": 4,
 "nbformat_minor": 2
}
